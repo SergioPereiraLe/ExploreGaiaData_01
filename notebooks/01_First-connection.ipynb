{
 "cells": [
  {
   "cell_type": "markdown",
   "id": "6d392690",
   "metadata": {},
   "source": [
    "# First Query to Gaia Data\n",
    "\n",
    "In this notebook I will create the first connection to Gaia Data, execute some ADQL query, download data, perform some basic analysis and create some visualization. \n",
    "The purpose is just test the connection and get familiar with ADQL and the process to get data from Gaia."
   ]
  },
  {
   "cell_type": "markdown",
   "id": "f1a47ce2",
   "metadata": {},
   "source": [
    "### 1. Imports and configs"
   ]
  },
  {
   "cell_type": "code",
   "execution_count": null,
   "id": "a70c6be5",
   "metadata": {},
   "outputs": [],
   "source": [
    "# Import libraries\n",
    "\n",
    "import pandas as pd \n",
    "import numpy as np \n",
    "import matplotlib.pyplot as plt \n",
    "from astroquery.gaia import Gaia \n",
    "from astropy import units as u\n",
    "from astropy.coordinates import SkyCoord\n",
    "import getpass\n",
    "from IPython.display import display\n",
    "import ipywidgets as widgets\n",
    "import warnings\n",
    "warnings.filterwarnings(\"ignore\")"
   ]
  },
  {
   "cell_type": "code",
   "execution_count": null,
   "id": "f7bf8c81",
   "metadata": {},
   "outputs": [],
   "source": [
    "plt.style.use('default')\n",
    "plt.rcParams['figure.figsize'] = (10, 6)\n",
    "plt.rcParams['font.size'] = 12"
   ]
  },
  {
   "cell_type": "markdown",
   "id": "32f7d1d3",
   "metadata": {},
   "source": [
    "### 2. Login to Gaia Service\n",
    "\n",
    "I will create this code to login to Gaia Service, using ipywidgets to ask for user/pass. I also created the login to connect anonymously in case user/pass are not provided or incorrect"
   ]
  },
  {
   "cell_type": "code",
   "execution_count": null,
   "id": "0ad80c50",
   "metadata": {},
   "outputs": [],
   "source": [
    "Gaia.MAIN_GAIA_TABLE == 'gaiadr3.gaia_source' #use the DR3 catalog\n",
    "login_checkbox = True  # Change to False if you want an anonymous login\n",
    "use_login = login_checkbox\n",
    "\n",
    "print(\"\\\\n--- INTERACTIVE CONFIGURATION ---\")\n",
    "login_checkbox = widgets.Checkbox(value=True, description='Login to ESA archive?')\n",
    "username_text = widgets.Text(placeholder='User', description='Enter your user name to connect to ESA archive')\n",
    "password_text = widgets.Password(placeholder='Password', description='Password')\n",
    "login_button = widgets.Button(description='Connect')\n",
    "\n",
    "def on_login_click(b):\n",
    "    global USE_LOGIN, USERNAME, PASSWORD\n",
    "    USE_LOGIN = login_checkbox\n",
    "    USERNAME = username_text.value\n",
    "    PASSWORD = password_text.value\n",
    "    print(\"Credentials saved, run the following cell to connect\")\n",
    "\n",
    "login_button.on_click(on_login_click)\n",
    "\n",
    "display(login_checkbox)\n",
    "if login_checkbox.value:\n",
    "    display(username_text)\n",
    "    display(password_text)\n",
    "    display(login_button)\n",
    "print(\"=== CONFIG OF ACCESS TO GAIA DATA ===\")\n",
    "print(\"\\nAccess options:\")\n",
    "print(\"1. Anonymous (limits: ~3GB queries, 2000 rows sync)\")\n",
    "print(\"2. Registered access (recomended: bigger queries)\")\n",
    "\n",
    "if use_login =='True':\n",
    "    print(\"\\n--- LOGIN WITH ESA USER ---\")\n",
    "    print(\"If you don't have an account, register in: https://www.cosmos.esa.int/web/gaia-users/register\")\n",
    "    \n",
    "    try:\n",
    "        # Attempt to log in\n",
    "        print(f\"Trying to connect with: {USERNAME}\")\n",
    "        Gaia.login(user=USERNAME, password=PASSWORD)\n",
    "        print(\"✅ Successful login!\")\n",
    "        \n",
    "        # Check login status\n",
    "        # print(f\"✅ Conected as: {Gaia.get_user()}\")\n",
    "        \n",
    "        # With a registered user, we can use higher limits.\n",
    "        Gaia.ROW_LIMIT = 2000  # Higher limit for registered users\n",
    "        \n",
    "        # Display account information\n",
    "        print(\"\\n--- ACCOUNT INFORMATION ---\")\n",
    "        try:\n",
    "            print(\"Checking account limits...\")\n",
    "            # Note: the API may not always return this information.\n",
    "        except:\n",
    "            print(\"Quota information not available via API\")\n",
    "    except Exception as e:\n",
    "        print(f\"❌ Login error: {e}\")\n",
    "        print(\"Continuing with anonymous access...\")\n",
    "        print(\"Please verify your credentials at: https://gea.esac.esa.int/archive/\")\n",
    "        Gaia.ROW_LIMIT = 50  # Lower limit for anonymous access\n",
    "        USE_LOGIN = False\n",
    "else:\n",
    "    print(\"Continuing with anonymous access...\")\n",
    "    Gaia.ROW_LIMIT = 50  # Lower limit for anonymous access\n",
    "\n",
    "print(f\"\\nFinal configuration:\")\n",
    "print(f\"Main table: {Gaia.MAIN_GAIA_TABLE}\")\n",
    "print(f\"Row limit per query: {Gaia.ROW_LIMIT}\")\n"
   ]
  },
  {
   "cell_type": "markdown",
   "id": "c312b002",
   "metadata": {},
   "source": [
    "### 3. Bright stars within 50 parsecs\n",
    "\n",
    "##### 3.1. ADQL query to obtain bright stars within 50 parsecs"
   ]
  },
  {
   "cell_type": "code",
   "execution_count": null,
   "id": "addb6571",
   "metadata": {},
   "outputs": [],
   "source": [
    "# build ADQL query taking some fields (coordinates, parallax, magnitude, bp_rp, radial velocity)\n",
    "query1 = f\"\"\"\n",
    "SELECT TOP {Gaia.ROW_LIMIT}\n",
    "    source_id,\n",
    "    ra, dec,\n",
    "    parallax,\n",
    "    parallax_error,\n",
    "    phot_g_mean_mag,\n",
    "    bp_rp,\n",
    "    radial_velocity,\n",
    "    pmra, pmdec\n",
    "FROM gaiadr3.gaia_source\n",
    "WHERE parallax > 20\n",
    "    AND parallax_over_error > 5\n",
    "    AND phot_g_mean_mag IS NOT NULL\n",
    "ORDER BY phot_g_mean_mag ASC\n",
    "\"\"\"\n",
    "\n",
    "print(f\"Consulting the {Gaia.ROW_LIMIT} brightest stars nearby...\")\n",
    "\n",
    "# Run the query synchronously\n",
    "job1 = Gaia.launch_job(query1)\n",
    "results1 = job1.get_results()\n",
    "\n",
    "print(f\"Query completed. Obtained {len(results1)} stars.\")\n",
    "print(\"\\nFirst 5 stars:\")\n",
    "print(results1[:5].to_pandas())"
   ]
  },
  {
   "cell_type": "markdown",
   "id": "321bd918",
   "metadata": {},
   "source": [
    "##### 3.2. Exploratory Data Analysis"
   ]
  },
  {
   "cell_type": "code",
   "execution_count": null,
   "id": "a56749d6",
   "metadata": {},
   "outputs": [],
   "source": [
    "print(\"\\n=== EXPLORATORY DATA ANALYSIS ===\")\n",
    "\n",
    "# Convert to Pandas DataFrame for easier analysis\n",
    "df = results1.to_pandas()\n",
    "\n",
    "# Calculate distance in parsecs (1/parallax)\n",
    "df['distance_pc'] = 1000 / df['parallax']  # parallax in mas -> distance in pc\n",
    "\n",
    "print(f\"Brightest magnitude: {df['phot_g_mean_mag'].min():.2f}\")\n",
    "print(f\"Closest distance: {df['distance_pc'].min():.1f} parsecs\")\n",
    "print(f\"Average B-R colour: {df['bp_rp'].mean():.2f}\")"
   ]
  },
  {
   "cell_type": "markdown",
   "id": "7e4673cb",
   "metadata": {},
   "source": [
    "##### 3.3. Visualization"
   ]
  },
  {
   "cell_type": "code",
   "execution_count": null,
   "id": "507bc730",
   "metadata": {},
   "outputs": [],
   "source": [
    "# Create a 2*2 matrix to display 4 diagrams\n",
    "fig, ((ax1, ax2), (ax3, ax4)) = plt.subplots(2, 2, figsize=(15, 10))\n",
    "\n",
    "# Fig 1: Colour-magnitude diagram\n",
    "ax1.scatter(df['bp_rp'], df['phot_g_mean_mag'], alpha=0.7, s=50)\n",
    "ax1.set_xlabel('Colour (BP-RP)')\n",
    "ax1.set_ylabel('G Magnitude')\n",
    "ax1.set_title('Colour-magnitude diagram')\n",
    "ax1.invert_yaxis()  # Brighter magnitudes above\n",
    "ax1.grid(True, alpha=0.3)\n",
    "\n",
    "# Figure 2: Histogram of distances\n",
    "ax2.hist(df['distance_pc'], bins=10, alpha=0.7, edgecolor='black')\n",
    "ax2.set_xlabel('Distance (parsecs)')\n",
    "ax2.set_ylabel('Num of stars')\n",
    "ax2.set_title('Distribution of Distances')\n",
    "ax2.grid(True, alpha=0.3)\n",
    "\n",
    "# Figure 3: Distance-magnitude relationship\n",
    "ax3.scatter(df['distance_pc'], df['phot_g_mean_mag'], alpha=0.7, s=50)\n",
    "ax3.set_xlabel('Distance (parsecs)')\n",
    "ax3.set_ylabel('G Magnitude')\n",
    "ax3.set_title('Distance vs Magnitude')\n",
    "ax3.grid(True, alpha=0.3)\n",
    "\n",
    "# Figure 4: Distribution in the sky (RA, Dec)\n",
    "scatter = ax4.scatter(df['ra'], df['dec'], c=df['phot_g_mean_mag'], \n",
    "                     cmap='viridis_r', s=50, alpha=0.7)\n",
    "ax4.set_xlabel('Right Asc (degrees)')\n",
    "ax4.set_ylabel('Declination (degrees)')\n",
    "ax4.set_title('Position in the sky')\n",
    "ax4.grid(True, alpha=0.3)\n",
    "plt.colorbar(scatter, ax=ax4, label='G Magnitude')\n",
    "\n",
    "plt.tight_layout()\n",
    "plt.show()"
   ]
  }
 ],
 "metadata": {
  "kernelspec": {
   "display_name": "venv (3.12.3)",
   "language": "python",
   "name": "python3"
  },
  "language_info": {
   "name": "python",
   "version": "3.12.3"
  }
 },
 "nbformat": 4,
 "nbformat_minor": 5
}
